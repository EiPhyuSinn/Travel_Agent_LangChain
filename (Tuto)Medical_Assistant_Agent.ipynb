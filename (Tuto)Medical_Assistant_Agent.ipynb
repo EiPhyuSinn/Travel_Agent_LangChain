{
 "cells": [
  {
   "cell_type": "code",
   "execution_count": 1,
   "metadata": {},
   "outputs": [],
   "source": [
    "!pip install -q datasets\n",
    "!pip install -q chromadb"
   ]
  },
  {
   "cell_type": "code",
   "execution_count": 12,
   "metadata": {},
   "outputs": [
    {
     "name": "stdout",
     "output_type": "stream",
     "text": [
      "Requirement already satisfied: pandas in /home/eps/Documents/Projects/LangChain-sandbox/venv/lib/python3.10/site-packages (2.3.0)\n",
      "Requirement already satisfied: tzdata>=2022.7 in /home/eps/Documents/Projects/LangChain-sandbox/venv/lib/python3.10/site-packages (from pandas) (2025.2)\n",
      "Requirement already satisfied: numpy>=1.22.4 in /home/eps/Documents/Projects/LangChain-sandbox/venv/lib/python3.10/site-packages (from pandas) (1.26.4)\n",
      "Requirement already satisfied: pytz>=2020.1 in /home/eps/Documents/Projects/LangChain-sandbox/venv/lib/python3.10/site-packages (from pandas) (2025.2)\n",
      "Requirement already satisfied: python-dateutil>=2.8.2 in /home/eps/Documents/Projects/LangChain-sandbox/venv/lib/python3.10/site-packages (from pandas) (2.9.0.post0)\n",
      "Requirement already satisfied: six>=1.5 in /home/eps/Documents/Projects/LangChain-sandbox/venv/lib/python3.10/site-packages (from python-dateutil>=2.8.2->pandas) (1.17.0)\n"
     ]
    }
   ],
   "source": [
    "! pip install pandas\n"
   ]
  },
  {
   "cell_type": "code",
   "execution_count": 11,
   "metadata": {},
   "outputs": [
    {
     "name": "stderr",
     "output_type": "stream",
     "text": [
      "Generating train split: 100%|██████████| 16407/16407 [00:00<00:00, 76132.00 examples/s]\n"
     ]
    }
   ],
   "source": [
    "from datasets import load_dataset\n",
    "\n",
    "data = load_dataset(\"keivalya/MedQuad-MedicalQnADataset\", split='train')"
   ]
  },
  {
   "cell_type": "code",
   "execution_count": 13,
   "metadata": {},
   "outputs": [
    {
     "data": {
      "text/html": [
       "<div>\n",
       "<style scoped>\n",
       "    .dataframe tbody tr th:only-of-type {\n",
       "        vertical-align: middle;\n",
       "    }\n",
       "\n",
       "    .dataframe tbody tr th {\n",
       "        vertical-align: top;\n",
       "    }\n",
       "\n",
       "    .dataframe thead th {\n",
       "        text-align: right;\n",
       "    }\n",
       "</style>\n",
       "<table border=\"1\" class=\"dataframe\">\n",
       "  <thead>\n",
       "    <tr style=\"text-align: right;\">\n",
       "      <th></th>\n",
       "      <th>qtype</th>\n",
       "      <th>Question</th>\n",
       "      <th>Answer</th>\n",
       "    </tr>\n",
       "  </thead>\n",
       "  <tbody>\n",
       "    <tr>\n",
       "      <th>0</th>\n",
       "      <td>susceptibility</td>\n",
       "      <td>Who is at risk for Lymphocytic Choriomeningiti...</td>\n",
       "      <td>LCMV infections can occur after exposure to fr...</td>\n",
       "    </tr>\n",
       "    <tr>\n",
       "      <th>1</th>\n",
       "      <td>symptoms</td>\n",
       "      <td>What are the symptoms of Lymphocytic Choriomen...</td>\n",
       "      <td>LCMV is most commonly recognized as causing ne...</td>\n",
       "    </tr>\n",
       "    <tr>\n",
       "      <th>2</th>\n",
       "      <td>susceptibility</td>\n",
       "      <td>Who is at risk for Lymphocytic Choriomeningiti...</td>\n",
       "      <td>Individuals of all ages who come into contact ...</td>\n",
       "    </tr>\n",
       "    <tr>\n",
       "      <th>3</th>\n",
       "      <td>exams and tests</td>\n",
       "      <td>How to diagnose Lymphocytic Choriomeningitis (...</td>\n",
       "      <td>During the first phase of the disease, the mos...</td>\n",
       "    </tr>\n",
       "    <tr>\n",
       "      <th>4</th>\n",
       "      <td>treatment</td>\n",
       "      <td>What are the treatments for Lymphocytic Chorio...</td>\n",
       "      <td>Aseptic meningitis, encephalitis, or meningoen...</td>\n",
       "    </tr>\n",
       "  </tbody>\n",
       "</table>\n",
       "</div>"
      ],
      "text/plain": [
       "             qtype                                           Question  \\\n",
       "0   susceptibility  Who is at risk for Lymphocytic Choriomeningiti...   \n",
       "1         symptoms  What are the symptoms of Lymphocytic Choriomen...   \n",
       "2   susceptibility  Who is at risk for Lymphocytic Choriomeningiti...   \n",
       "3  exams and tests  How to diagnose Lymphocytic Choriomeningitis (...   \n",
       "4        treatment  What are the treatments for Lymphocytic Chorio...   \n",
       "\n",
       "                                              Answer  \n",
       "0  LCMV infections can occur after exposure to fr...  \n",
       "1  LCMV is most commonly recognized as causing ne...  \n",
       "2  Individuals of all ages who come into contact ...  \n",
       "3  During the first phase of the disease, the mos...  \n",
       "4  Aseptic meningitis, encephalitis, or meningoen...  "
      ]
     },
     "execution_count": 13,
     "metadata": {},
     "output_type": "execute_result"
    }
   ],
   "source": [
    "import pandas as pd \n",
    "df = data.to_pandas()\n",
    "df.head()"
   ]
  },
  {
   "cell_type": "code",
   "execution_count": 14,
   "metadata": {},
   "outputs": [
    {
     "data": {
      "text/plain": [
       "16407"
      ]
     },
     "execution_count": 14,
     "metadata": {},
     "output_type": "execute_result"
    }
   ],
   "source": [
    "len(df)"
   ]
  },
  {
   "cell_type": "code",
   "execution_count": 33,
   "metadata": {},
   "outputs": [
    {
     "data": {
      "text/plain": [
       "'Who is at risk for Lymphocytic Choriomeningitis (LCM)? ?'"
      ]
     },
     "execution_count": 33,
     "metadata": {},
     "output_type": "execute_result"
    }
   ],
   "source": [
    "df.Question[0]"
   ]
  },
  {
   "cell_type": "code",
   "execution_count": 21,
   "metadata": {},
   "outputs": [],
   "source": [
    "df = df[:100]"
   ]
  },
  {
   "cell_type": "code",
   "execution_count": 22,
   "metadata": {},
   "outputs": [
    {
     "data": {
      "text/plain": [
       "Document(metadata={'qtype': 'susceptibility', 'Question': 'Who is at risk for Lymphocytic Choriomeningitis (LCM)? ?'}, page_content='LCMV infections can occur after exposure to fresh urine, droppings, saliva, or nesting materials from infected rodents.  Transmission may also occur when these materials are directly introduced into broken skin, the nose, the eyes, or the mouth, or presumably, via the bite of an infected rodent. Person-to-person transmission has not been reported, with the exception of vertical transmission from infected mother to fetus, and rarely, through organ transplantation.')"
      ]
     },
     "execution_count": 22,
     "metadata": {},
     "output_type": "execute_result"
    }
   ],
   "source": [
    "from langchain.document_loaders import DataFrameLoader\n",
    "\n",
    "loader = DataFrameLoader(df,page_content_column=\"Answer\")\n",
    "df_data = loader.load()\n",
    "df_data[0]"
   ]
  },
  {
   "cell_type": "code",
   "execution_count": 23,
   "metadata": {},
   "outputs": [
    {
     "data": {
      "text/plain": [
       "100"
      ]
     },
     "execution_count": 23,
     "metadata": {},
     "output_type": "execute_result"
    }
   ],
   "source": [
    "len(df_data)"
   ]
  },
  {
   "cell_type": "code",
   "execution_count": 27,
   "metadata": {},
   "outputs": [
    {
     "name": "stderr",
     "output_type": "stream",
     "text": [
      "/tmp/ipykernel_1217018/950934551.py:3: LangChainDeprecationWarning: The class `HuggingFaceEmbeddings` was deprecated in LangChain 0.2.2 and will be removed in 1.0. An updated version of the class exists in the :class:`~langchain-huggingface package and should be used instead. To use it run `pip install -U :class:`~langchain-huggingface` and import as `from :class:`~langchain_huggingface import HuggingFaceEmbeddings``.\n",
      "  embedding_model = HuggingFaceEmbeddings()\n",
      "/tmp/ipykernel_1217018/950934551.py:3: LangChainDeprecationWarning: Default values for HuggingFaceEmbeddings.model_name were deprecated in LangChain 0.2.16 and will be removed in 0.4.0. Explicitly pass a model_name to the HuggingFaceEmbeddings constructor instead.\n",
      "  embedding_model = HuggingFaceEmbeddings()\n"
     ]
    }
   ],
   "source": [
    "from langchain.embeddings import HuggingFaceEmbeddings\n",
    "\n",
    "embedding_model = HuggingFaceEmbeddings()"
   ]
  },
  {
   "cell_type": "code",
   "execution_count": 28,
   "metadata": {},
   "outputs": [],
   "source": [
    "from langchain.vectorstores import Chroma\n",
    "\n",
    "chromaDB = Chroma.from_documents(df_data,embedding=embedding_model)"
   ]
  },
  {
   "cell_type": "code",
   "execution_count": 30,
   "metadata": {},
   "outputs": [
    {
     "name": "stderr",
     "output_type": "stream",
     "text": [
      "/tmp/ipykernel_1217018/2569822188.py:12: LangChainDeprecationWarning: Please see the migration guide at: https://python.langchain.com/docs/versions/migrating_memory/\n",
      "  conversational_memory = ConversationBufferWindowMemory(\n"
     ]
    }
   ],
   "source": [
    "from langchain_groq import ChatGroq\n",
    "from langchain.chains.conversation.memory import ConversationBufferWindowMemory\n",
    "from langchain.chains import RetrievalQA\n",
    "from dotenv import load_dotenv\n",
    "import os\n",
    "\n",
    "load_dotenv()\n",
    "llm = ChatGroq(\n",
    "    model_name=\"llama-3.3-70b-versatile\",\n",
    "    temperature=0.7\n",
    ")\n",
    "conversational_memory = ConversationBufferWindowMemory(\n",
    "    memory_key='chat_history',\n",
    "    k=4, #Number of messages stored in memory\n",
    "    return_messages=True #Must return the messages in the response.\n",
    ")\n",
    "\n",
    "qa = RetrievalQA.from_chain_type(\n",
    "    llm=llm,\n",
    "    chain_type=\"stuff\",\n",
    "    retriever=chromaDB.as_retriever()\n",
    ")"
   ]
  },
  {
   "cell_type": "code",
   "execution_count": 36,
   "metadata": {},
   "outputs": [
    {
     "data": {
      "text/plain": [
       "{'query': 'Who is at risk for Lymphocytic Choriomeningitis (LCM)? ',\n",
       " 'result': 'Individuals at risk for Lymphocytic Choriomeningitis (LCM) include:\\n\\n1. Those who come into contact with urine, feces, saliva, or blood of wild mice.\\n2. Owners of pet mice or hamsters that originate from contaminated colonies or are infected by wild mice.\\n3. Laboratory workers who work with the virus or handle infected animals (although this risk can be minimized with proper precautions).\\n4. Human fetuses who can acquire the infection vertically from an infected mother.\\n5. Individuals who handle fresh urine, droppings, saliva, or nesting materials from infected rodents, or have these materials introduced into broken skin, the nose, eyes, or mouth.\\n6. Recipients of organ transplants from an infected donor (rarely).\\n\\nIn general, anyone who comes into contact with infected rodents or their bodily fluids is potentially at risk for infection.'}"
      ]
     },
     "execution_count": 36,
     "metadata": {},
     "output_type": "execute_result"
    }
   ],
   "source": [
    "qa.invoke('Who is at risk for Lymphocytic Choriomeningitis (LCM)? ')"
   ]
  },
  {
   "cell_type": "code",
   "execution_count": 45,
   "metadata": {},
   "outputs": [
    {
     "data": {
      "text/plain": [
       "{'query': 'what is 1235*1232',\n",
       " 'result': \"I don't know the answer to that question as it is not related to the provided context. However, I can calculate it for you: \\n\\n1235 * 1232 = 1,520,720.\"}"
      ]
     },
     "execution_count": 45,
     "metadata": {},
     "output_type": "execute_result"
    }
   ],
   "source": [
    "qa.invoke('what is 1235*1232')"
   ]
  },
  {
   "cell_type": "code",
   "execution_count": 47,
   "metadata": {},
   "outputs": [
    {
     "data": {
      "text/plain": [
       "{'query': 'who is president of America in 1990?',\n",
       " 'result': 'The President of the United States in 1990 was George H.W. Bush.'}"
      ]
     },
     "execution_count": 47,
     "metadata": {},
     "output_type": "execute_result"
    }
   ],
   "source": [
    "qa.invoke('who is president of America in 1990?')"
   ]
  },
  {
   "cell_type": "code",
   "execution_count": 37,
   "metadata": {},
   "outputs": [],
   "source": [
    "from langchain.agents import Tool\n",
    "\n",
    "#Defining the list of tool objects to be used by LangChain.\n",
    "tools = [\n",
    "    Tool(\n",
    "        name='Medical KB',\n",
    "        func=qa.run,\n",
    "        description=(\n",
    "            \"\"\"use this tool when answering medical knowledge queries to get\n",
    "            more information about the topic\"\"\"\n",
    "        )\n",
    "    )\n",
    "]"
   ]
  },
  {
   "cell_type": "code",
   "execution_count": 39,
   "metadata": {},
   "outputs": [
    {
     "name": "stderr",
     "output_type": "stream",
     "text": [
      "/home/eps/Documents/Projects/LangChain-sandbox/venv/lib/python3.10/site-packages/langsmith/client.py:241: LangSmithMissingAPIKeyWarning: API key must be provided when using hosted LangSmith API\n",
      "  warnings.warn(\n"
     ]
    }
   ],
   "source": [
    "from langchain.agents import create_react_agent\n",
    "from langchain import hub\n",
    "\n",
    "prompt = hub.pull(\"hwchase17/react-chat\")\n",
    "agent = create_react_agent(llm=llm,tools=tools,prompt=prompt)"
   ]
  },
  {
   "cell_type": "code",
   "execution_count": null,
   "metadata": {},
   "outputs": [],
   "source": [
    "from langchain.agents import AgentExecutor\n",
    "agent_executor = AgentExecutor(agent=agent,\n",
    "                               tools=tools,\n",
    "                               verbose=True,\n",
    "                               memory=conversational_memory,\n",
    "                               max_iterations=30,\n",
    "                               max_execution_time=600,\n",
    "                               handle_parsing_errors=True\n",
    "                               )"
   ]
  },
  {
   "cell_type": "code",
   "execution_count": 41,
   "metadata": {},
   "outputs": [
    {
     "name": "stdout",
     "output_type": "stream",
     "text": [
      "\n",
      "\n",
      "\u001b[1m> Entering new AgentExecutor chain...\u001b[0m\n",
      "\u001b[32;1m\u001b[1;3mThought: Do I need to use a tool? No\n",
      "Final Answer: The area of a square is calculated by multiplying the length of one side by itself. In this case, the length of one side is 2. So, the area of the square is 2 * 2 = 4.\u001b[0m\n",
      "\n",
      "\u001b[1m> Finished chain.\u001b[0m\n"
     ]
    },
    {
     "data": {
      "text/plain": [
       "{'input': 'Give me the area of square of 2x2',\n",
       " 'chat_history': [],\n",
       " 'output': 'The area of a square is calculated by multiplying the length of one side by itself. In this case, the length of one side is 2. So, the area of the square is 2 * 2 = 4.'}"
      ]
     },
     "execution_count": 41,
     "metadata": {},
     "output_type": "execute_result"
    }
   ],
   "source": [
    "agent_executor.invoke({\"input\": \"Give me the area of square of 2x2\"})"
   ]
  },
  {
   "cell_type": "code",
   "execution_count": 42,
   "metadata": {},
   "outputs": [
    {
     "name": "stdout",
     "output_type": "stream",
     "text": [
      "\n",
      "\n",
      "\u001b[1m> Entering new AgentExecutor chain...\u001b[0m\n",
      "\u001b[32;1m\u001b[1;3mThought: Do I need to use a tool? Yes\n",
      "Action: Medical KB\n",
      "Action Input: Botulism diagnosis\u001b[0m\u001b[36;1m\u001b[1;3mDiagnosing botulism can be challenging as the symptoms are similar to those of other diseases, such as Guillain-Barré syndrome, stroke, and myasthenia gravis. \n",
      "\n",
      "To diagnose botulism, a physician may consider the patient's history and physical examination, but these clues are usually not enough to confirm the diagnosis. Special tests may be needed to exclude other conditions and confirm botulism. These tests may include:\n",
      "\n",
      "1. Brain scan\n",
      "2. Spinal fluid examination\n",
      "3. Nerve conduction test (electromyography, or EMG)\n",
      "4. Tensilon test for myasthenia gravis\n",
      "5. Tests for botulinum toxin and for bacteria that cause botulism, which can be performed at some state health department laboratories and at CDC.\n",
      "\n",
      "The classic symptoms of botulism, such as double vision, blurred vision, drooping eyelids, slurred speech, difficulty swallowing, dry mouth, and muscle weakness, can also help guide the diagnosis. In infants, symptoms may include lethargy, poor feeding, constipation, and a weak cry. \n",
      "\n",
      "It's worth noting that a definitive diagnosis of botulism is often made by laboratory tests, such as detecting the botulinum toxin or the bacteria that produce it in the patient's stool, blood, or wound.\u001b[0m\u001b[32;1m\u001b[1;3mDo I need to use a tool? No\n",
      "Final Answer: To confirm the diagnosis of botulism in your patient, consider their history and physical examination, but also utilize special tests such as a brain scan, spinal fluid examination, nerve conduction test, and tests for botulinum toxin and the bacteria that cause botulism. Classic symptoms like double vision, blurred vision, drooping eyelids, slurred speech, difficulty swallowing, dry mouth, and muscle weakness can also guide the diagnosis. In infants, look for lethargy, poor feeding, constipation, and a weak cry. A definitive diagnosis is often made by laboratory tests detecting the botulinum toxin or the bacteria in the patient's stool, blood, or wound.\u001b[0m\n",
      "\n",
      "\u001b[1m> Finished chain.\u001b[0m\n"
     ]
    },
    {
     "data": {
      "text/plain": [
       "{'input': 'I have a patient that can have Botulism,\\nhow can I confirm the diagnosis?',\n",
       " 'chat_history': [HumanMessage(content='Give me the area of square of 2x2', additional_kwargs={}, response_metadata={}),\n",
       "  AIMessage(content='The area of a square is calculated by multiplying the length of one side by itself. In this case, the length of one side is 2. So, the area of the square is 2 * 2 = 4.', additional_kwargs={}, response_metadata={})],\n",
       " 'output': \"To confirm the diagnosis of botulism in your patient, consider their history and physical examination, but also utilize special tests such as a brain scan, spinal fluid examination, nerve conduction test, and tests for botulinum toxin and the bacteria that cause botulism. Classic symptoms like double vision, blurred vision, drooping eyelids, slurred speech, difficulty swallowing, dry mouth, and muscle weakness can also guide the diagnosis. In infants, look for lethargy, poor feeding, constipation, and a weak cry. A definitive diagnosis is often made by laboratory tests detecting the botulinum toxin or the bacteria in the patient's stool, blood, or wound.\"}"
      ]
     },
     "execution_count": 42,
     "metadata": {},
     "output_type": "execute_result"
    }
   ],
   "source": [
    "agent_executor.invoke({\"input\": \"\"\"I have a patient that can have Botulism,\n",
    "how can I confirm the diagnosis?\"\"\"})"
   ]
  },
  {
   "cell_type": "code",
   "execution_count": 43,
   "metadata": {},
   "outputs": [
    {
     "name": "stdout",
     "output_type": "stream",
     "text": [
      "\n",
      "\n",
      "\u001b[1m> Entering new AgentExecutor chain...\u001b[0m\n",
      "\u001b[32;1m\u001b[1;3mThought: Do I need to use a tool? Yes\n",
      "Action: Medical KB\n",
      "Action Input: Botulism diagnosis\u001b[0m\u001b[36;1m\u001b[1;3mDiagnosing botulism can be challenging as the symptoms are similar to those of other diseases such as Guillain-Barré syndrome, stroke, and myasthenia gravis. \n",
      "\n",
      "To diagnose botulism, physicians consider the patient's history and physical examination, but special tests are often needed to confirm the diagnosis. These tests may include:\n",
      "\n",
      "1. Brain scan\n",
      "2. Spinal fluid examination\n",
      "3. Nerve conduction test (electromyography, or EMG)\n",
      "4. Tensilon test for myasthenia gravis\n",
      "5. Tests for botulinum toxin and for bacteria that cause botulism, which can be performed at some state health department laboratories and at the CDC.\n",
      "\n",
      "The classic symptoms of botulism, such as double vision, blurred vision, drooping eyelids, slurred speech, difficulty swallowing, dry mouth, and muscle weakness, can also help guide the diagnosis. In infants, symptoms may include lethargy, poor feeding, constipation, and a weak cry. \n",
      "\n",
      "It's worth noting that a diagnosis of botulism is typically made by a combination of clinical evaluation, laboratory tests, and epidemiological investigation. If botulism is suspected, it's essential to seek medical attention immediately, as prompt treatment can significantly improve outcomes.\u001b[0m\u001b[32;1m\u001b[1;3mDo I need to use a tool? No\n",
      "Final Answer: To confirm if your patient has botulism, doctors will look at their medical history, do a physical exam, and may use tests like a brain scan, spinal fluid exam, or nerve test. They will also check for symptoms such as double vision, slurred speech, or muscle weakness. In infants, they might look for lethargy, poor feeding, or a weak cry. A diagnosis is often confirmed with lab tests that detect the toxin or bacteria in the patient's stool, blood, or wound. It's crucial to seek medical help right away if botulism is suspected, as early treatment can greatly improve outcomes.\u001b[0m\n",
      "\n",
      "\u001b[1m> Finished chain.\u001b[0m\n"
     ]
    },
    {
     "data": {
      "text/plain": [
       "{'input': 'I dont understand can you explain simpler',\n",
       " 'chat_history': [HumanMessage(content='Give me the area of square of 2x2', additional_kwargs={}, response_metadata={}),\n",
       "  AIMessage(content='The area of a square is calculated by multiplying the length of one side by itself. In this case, the length of one side is 2. So, the area of the square is 2 * 2 = 4.', additional_kwargs={}, response_metadata={}),\n",
       "  HumanMessage(content='I have a patient that can have Botulism,\\nhow can I confirm the diagnosis?', additional_kwargs={}, response_metadata={}),\n",
       "  AIMessage(content=\"To confirm the diagnosis of botulism in your patient, consider their history and physical examination, but also utilize special tests such as a brain scan, spinal fluid examination, nerve conduction test, and tests for botulinum toxin and the bacteria that cause botulism. Classic symptoms like double vision, blurred vision, drooping eyelids, slurred speech, difficulty swallowing, dry mouth, and muscle weakness can also guide the diagnosis. In infants, look for lethargy, poor feeding, constipation, and a weak cry. A definitive diagnosis is often made by laboratory tests detecting the botulinum toxin or the bacteria in the patient's stool, blood, or wound.\", additional_kwargs={}, response_metadata={})],\n",
       " 'output': \"To confirm if your patient has botulism, doctors will look at their medical history, do a physical exam, and may use tests like a brain scan, spinal fluid exam, or nerve test. They will also check for symptoms such as double vision, slurred speech, or muscle weakness. In infants, they might look for lethargy, poor feeding, or a weak cry. A diagnosis is often confirmed with lab tests that detect the toxin or bacteria in the patient's stool, blood, or wound. It's crucial to seek medical help right away if botulism is suspected, as early treatment can greatly improve outcomes.\"}"
      ]
     },
     "execution_count": 43,
     "metadata": {},
     "output_type": "execute_result"
    }
   ],
   "source": [
    "agent_executor.invoke({\"input\": \"\"\"I dont understand can you explain simpler\"\"\"})"
   ]
  },
  {
   "cell_type": "code",
   "execution_count": 50,
   "metadata": {},
   "outputs": [
    {
     "name": "stdout",
     "output_type": "stream",
     "text": [
      "\n",
      "\n",
      "\u001b[1m> Entering new AgentExecutor chain...\u001b[0m\n",
      "\u001b[32;1m\u001b[1;3mThought: Do I need to use a tool? No\n",
      "Final Answer: The President of the United States is Joe Biden. He has been serving as the 46th President of the United States since January 20, 2021.\u001b[0m\n",
      "\n",
      "\u001b[1m> Finished chain.\u001b[0m\n"
     ]
    },
    {
     "data": {
      "text/plain": [
       "{'input': 'Who is the president of America now?',\n",
       " 'chat_history': [HumanMessage(content='Give me the area of square of 2x2', additional_kwargs={}, response_metadata={}),\n",
       "  AIMessage(content='The area of a square is calculated by multiplying the length of one side by itself. In this case, the length of one side is 2. So, the area of the square is 2 * 2 = 4.', additional_kwargs={}, response_metadata={}),\n",
       "  HumanMessage(content='I have a patient that can have Botulism,\\nhow can I confirm the diagnosis?', additional_kwargs={}, response_metadata={}),\n",
       "  AIMessage(content=\"To confirm the diagnosis of botulism in your patient, consider their history and physical examination, but also utilize special tests such as a brain scan, spinal fluid examination, nerve conduction test, and tests for botulinum toxin and the bacteria that cause botulism. Classic symptoms like double vision, blurred vision, drooping eyelids, slurred speech, difficulty swallowing, dry mouth, and muscle weakness can also guide the diagnosis. In infants, look for lethargy, poor feeding, constipation, and a weak cry. A definitive diagnosis is often made by laboratory tests detecting the botulinum toxin or the bacteria in the patient's stool, blood, or wound.\", additional_kwargs={}, response_metadata={}),\n",
       "  HumanMessage(content='I dont understand can you explain simpler', additional_kwargs={}, response_metadata={}),\n",
       "  AIMessage(content=\"To confirm if your patient has botulism, doctors will look at their medical history, do a physical exam, and may use tests like a brain scan, spinal fluid exam, or nerve test. They will also check for symptoms such as double vision, slurred speech, or muscle weakness. In infants, they might look for lethargy, poor feeding, or a weak cry. A diagnosis is often confirmed with lab tests that detect the toxin or bacteria in the patient's stool, blood, or wound. It's crucial to seek medical help right away if botulism is suspected, as early treatment can greatly improve outcomes.\", additional_kwargs={}, response_metadata={}),\n",
       "  HumanMessage(content='Who is the president of America', additional_kwargs={}, response_metadata={}),\n",
       "  AIMessage(content='The President of the United States is Joe Biden. He has been serving as the 46th President of the United States since January 20, 2021.', additional_kwargs={}, response_metadata={})],\n",
       " 'output': 'The President of the United States is Joe Biden. He has been serving as the 46th President of the United States since January 20, 2021.'}"
      ]
     },
     "execution_count": 50,
     "metadata": {},
     "output_type": "execute_result"
    }
   ],
   "source": [
    "agent_executor.invoke({\"input\": \"\"\"Who is the president of America now?\"\"\"})"
   ]
  }
 ],
 "metadata": {
  "kernelspec": {
   "display_name": "venv",
   "language": "python",
   "name": "python3"
  },
  "language_info": {
   "codemirror_mode": {
    "name": "ipython",
    "version": 3
   },
   "file_extension": ".py",
   "mimetype": "text/x-python",
   "name": "python",
   "nbconvert_exporter": "python",
   "pygments_lexer": "ipython3",
   "version": "3.10.12"
  }
 },
 "nbformat": 4,
 "nbformat_minor": 2
}
